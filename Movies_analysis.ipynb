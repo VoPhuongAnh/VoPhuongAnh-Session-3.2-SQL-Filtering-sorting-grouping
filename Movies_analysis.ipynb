{
  "nbformat": 4,
  "nbformat_minor": 0,
  "metadata": {
    "colab": {
      "provenance": [],
      "include_colab_link": true
    },
    "kernelspec": {
      "name": "python3",
      "display_name": "Python 3"
    },
    "language_info": {
      "name": "python"
    }
  },
  "cells": [
    {
      "cell_type": "markdown",
      "metadata": {
        "id": "view-in-github",
        "colab_type": "text"
      },
      "source": [
        "<a href=\"https://colab.research.google.com/github/VoPhuongAnh/VoPhuongAnh-Session-3.2-SQL-Filtering-sorting-grouping/blob/main/Movies_analysis.ipynb\" target=\"_parent\"><img src=\"https://colab.research.google.com/assets/colab-badge.svg\" alt=\"Open In Colab\"/></a>"
      ]
    },
    {
      "cell_type": "markdown",
      "source": [
        "## 🛠️ Installing libs into environment\n",
        "\n",
        "> ⚠️ You need to execute this code before running tasks"
      ],
      "metadata": {
        "id": "PmkzVCiizEQI"
      }
    },
    {
      "cell_type": "code",
      "source": [
        "%%capture\n",
        "!pip install mysql-connector-python\n",
        "\n",
        "import numpy as np\n",
        "import mysql.connector\n",
        "import pandas as pd\n",
        "import plotly.express as px\n",
        "import matplotlib.pyplot as plt\n",
        "import seaborn as sns\n",
        "import warnings\n",
        "warnings.filterwarnings('ignore')\n",
        "\n",
        "# CONNECTING TO THE DATABASE SERVER\n",
        "conn = mysql.connector.connect(user='marshmallow', password='N3unkNbXQYh33og', host='112.213.86.31', port='3360', database='examples')"
      ],
      "metadata": {
        "id": "OEi6wskJKbG6"
      },
      "execution_count": null,
      "outputs": []
    },
    {
      "cell_type": "markdown",
      "source": [
        "---"
      ],
      "metadata": {
        "id": "SzAOqZT2uIOZ"
      }
    },
    {
      "cell_type": "markdown",
      "source": [
        "## **📜 Prerequisites**\n",
        "\n",
        "\n",
        "1.   If you need to debug your SQL, you can use SQL console following [**this link**](https://api.swisscoding.edu.vn/sqlexec/?database=examples&standalone=true)\n",
        "2.   To solve a task, just enter an SQL query into code like this: ![Screenshot_5.png](data:image/png;base64,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)\n",
        "\n"
      ],
      "metadata": {
        "id": "ilrvMHDHpfXA"
      }
    },
    {
      "cell_type": "markdown",
      "source": [
        "## 📌 Task 1: Check the data distribution\n",
        "\n",
        "Let's start by checking the distribution of our data. 🕵\n",
        "\n",
        "We will draw histograms using Python libraries, but we need your help to get the necessary data from the database server!!\n",
        "\n",
        "---\n",
        "\n",
        "> **🚩 Task**: Enter a query that retrieves **all data** from table `movies` into the code below\n",
        "\n",
        "> 🔎 [**Expected result**](https://drive.google.com/file/d/18wNHexai-qZs1U5TqeGEXfwxIr9gRGu1/view?usp=drive_link)\n",
        "\n",
        "---"
      ],
      "metadata": {
        "id": "8m6RNWIG7uWX"
      }
    },
    {
      "cell_type": "code",
      "source": [
        "query = \"\"\"\n",
        "  -- ENTER A QUERY HERE\n",
        "\"\"\"\n",
        "\n",
        "\n",
        "# ============================================================================================================================\n",
        "#  Visualizing\n",
        "# ============================================================================================================================\n",
        "df = pd.read_sql(query, conn)\n",
        "df = df.drop('id', axis=1)\n",
        "df['Release_Date'] = pd.to_datetime(df['Release_Date'], format='%Y-%m-%d')\n",
        "df.hist(color='#9dc098',alpha=.9)\n",
        "plt.tight_layout()\n",
        "plt.show()\n",
        "# ============================================================================================================================"
      ],
      "metadata": {
        "id": "35O1KoXl6ws3"
      },
      "execution_count": null,
      "outputs": []
    },
    {
      "cell_type": "markdown",
      "source": [
        "---"
      ],
      "metadata": {
        "id": "nZZ6nrgIbN_5"
      }
    },
    {
      "cell_type": "markdown",
      "source": [
        "## 📌 Task 2: Retrieve 3 rows to take a look\n",
        "\n",
        "Great result!!! 🎉\n",
        "\n",
        "Now, before building any other chart, we would like to understand what data is in the table and how it is stored there.\n",
        "\n",
        "Help us build a query to get the first 3 rows from the movies table, and we will output them and study together how this table is structured in the database.\n",
        "\n",
        "---\n",
        "\n",
        "> **🚩 Task**: Enter a query that retrieves **the first 3 rows** from the table `movies`\n",
        "\n",
        "> 🔎 [**Expected result**](https://drive.google.com/file/d/1-71gpUhAKKTLt25K_Ia5MVIqqI_azRHn/view?usp=drive_link)\n",
        "\n",
        "---"
      ],
      "metadata": {
        "id": "RhRfRDwWjv8S"
      }
    },
    {
      "cell_type": "code",
      "source": [
        "query = \"\"\"\n",
        "  -- ENTER A QUERY HERE\n",
        "\"\"\"\n",
        "\n",
        "\n",
        "# ============================================================================================================================\n",
        "#  Showing the result table\n",
        "# ============================================================================================================================\n",
        "df = pd.read_sql(query, conn)\n",
        "display(df)\n",
        "# ============================================================================================================================"
      ],
      "metadata": {
        "id": "zWU-Q69S7geP"
      },
      "execution_count": null,
      "outputs": []
    },
    {
      "cell_type": "markdown",
      "source": [
        "## 📌 Task 3: Top 20 movies\n",
        "\n",
        "Okay, clear. 🤔\n",
        "\n",
        "What could we do as the next step... Ah!\n",
        "\n",
        "It seems to be interesting to find out what are the TOP 20 movies by their popularity. Help us to get the necessary data.\n",
        "\n",
        "---\n",
        "\n",
        "> **🚩 Task**: Write a query that retrieves **the 20 most popular movies** from the table `movies`\n",
        "\n",
        "> 🔎 [**Expected result**](https://drive.google.com/file/d/1NzclGi6zUbEG-06qnPyU5pu8EJi3dLRr/view?usp=drive_link)\n",
        "\n",
        "---\n"
      ],
      "metadata": {
        "id": "eM6MhBwtAJBv"
      }
    },
    {
      "cell_type": "code",
      "source": [
        "query = \"\"\"\n",
        "  -- ENTER A QUERY HERE\n",
        "\"\"\"\n",
        "\n",
        "\n",
        "# ============================================================================================================================\n",
        "#  Visualizing\n",
        "# ============================================================================================================================\n",
        "df = pd.read_sql(query, conn)\n",
        "fig, ax = plt.subplots(figsize = (10,4))\n",
        "sns.barplot(x = 'Title', y = 'Popularity', palette='crest',data = df)\n",
        "plt.title('Top 20 popular movies', fontsize = 15)\n",
        "plt.xticks(rotation = 90, fontsize = 10)\n",
        "plt.show()\n",
        "# ============================================================================================================================"
      ],
      "metadata": {
        "id": "RHsLw9naASR4"
      },
      "execution_count": null,
      "outputs": []
    },
    {
      "cell_type": "markdown",
      "source": [
        "## 📌 Task 4: TOP 5 years by productivity\n",
        "\n",
        "Cool! Now I have a list of movies that I definitely need to watch soon. 🍿🎬🍬\n",
        "\n",
        "By the way, I haven't seen most of them yet, what about you?\n",
        "\n",
        "It's amazing how many new movies have been released in recent years! I wonder if they used to make so many movies in previous years too? Let's see how many movies were made each year, it would be really interesting to find out!\n",
        "\n",
        "---\n",
        "\n",
        "> **🚩 Task**: Write a query that retrieves a **number of movies released by year**.\n",
        "\n",
        "> ⚠️ Please ensure that the resulting columns maintain precise names: `'Year'` for columns holding years and `'Number of movies released'` for the count of movies. The **letter case matters**.\n",
        "\n",
        "> 🔎 [**Expected result**](https://drive.google.com/file/d/1Y8DhJt4JXqulGqpRQULf5YNFk54VxYbV/view?usp=drive_link)\n",
        "\n",
        "---"
      ],
      "metadata": {
        "id": "i1b8PS_Pr_gp"
      }
    },
    {
      "cell_type": "code",
      "source": [
        "query = \"\"\"\n",
        "  -- ENTER A QUERY HERE\n",
        "\"\"\"\n",
        "\n",
        "\n",
        "# ============================================================================================================================\n",
        "#  Visualizing\n",
        "# ============================================================================================================================\n",
        "df = pd.read_sql(query, conn).sort_values(by = 'Number of movies released', ascending = False).head(5)\n",
        "fig, ax = plt.subplots(figsize = (10,4))\n",
        "sns.barplot(x = 'Year', y = 'Number of movies released', palette='crest',data = df, order=df.sort_values(by = 'Number of movies released', ascending = False).Year)\n",
        "plt.title('TOP 5 years by productivity', fontsize = 15)\n",
        "plt.xticks(rotation = 90, fontsize = 10)\n",
        "plt.show()\n",
        "# ============================================================================================================================"
      ],
      "metadata": {
        "id": "3LLWHdq2sLQ6"
      },
      "execution_count": null,
      "outputs": []
    },
    {
      "cell_type": "markdown",
      "source": [
        "## 📌 Task 5: TOP 5 genres by movies number\n",
        "\n",
        "By the way, what's your favorite genre? I enjoy Action and Fantasy. 🤩\n",
        "\n",
        "I wonder which genres are the most common? It's great that you know SQL and I can plot chart in Python, let's check it out now.\n",
        "\n",
        "---\n",
        "\n",
        "> **🚩 Task**: Write a query that retrieves a **number of movies by genre**.\n",
        "\n",
        "> ⚠️ Please ensure that the resulting columns maintain precise names: `'Genre'` for columns holding genres and `'Number of movies'` for the count of movies. The **letter case matters**.\n",
        "\n",
        "> 🔎 [**Expected result**](https://drive.google.com/file/d/1e8ypfzT9Gh-52cR_Vr-MtOvIa2pNAoRn/view?usp=drive_link)\n",
        "---"
      ],
      "metadata": {
        "id": "S3fl0i6O2LgZ"
      }
    },
    {
      "cell_type": "code",
      "source": [
        "query = \"\"\"\n",
        "  -- ENTER A QUERY HERE\n",
        "\"\"\"\n",
        "\n",
        "\n",
        "# ============================================================================================================================\n",
        "#  Visualizing\n",
        "# ============================================================================================================================\n",
        "df = pd.read_sql(query, conn).sort_values(by = 'Number of movies', ascending = False).head(5)\n",
        "fig, ax = plt.subplots(figsize = (10,4))\n",
        "sns.barplot(x = 'Genre', y = 'Number of movies', palette='crest',data = df, order=df.sort_values(by = 'Number of movies', ascending = False).Genre)\n",
        "plt.title('TOP 5 genres by movies number', fontsize = 15)\n",
        "plt.xticks(rotation = 90, fontsize = 10)\n",
        "plt.show()\n",
        "# ============================================================================================================================"
      ],
      "metadata": {
        "id": "sH8W6R-5r_Bc"
      },
      "execution_count": null,
      "outputs": []
    },
    {
      "cell_type": "markdown",
      "source": [
        "## 📌 Task 6: Popularity simple descriptive statistics\n",
        "\n",
        "\n",
        "By the way, I didn't notice it immediately, but the \"Popularity\" column seems very interesting. 🧐\n",
        "\n",
        "I'm not entirely sure what it contains, or rather, how this metric was calculated. Let's check what the maximum, minimum, and average values are there.\n",
        "\n",
        "---\n",
        "\n",
        "> **🚩 Task**: Write a query that retrieves **maximum**, **minimum** and **average** popularity from the table `movies` and **rounds the obtained values to 1 decimal place**.\n",
        "\n",
        "> 💡 **Tip**: If you have no idea how to round a value to 1 decimal place, follow this link: [https://www.w3schools.com/sql/func_mysql_round.asp](https://www.w3schools.com/sql/func_mysql_round.asp)\n",
        "\n",
        "> ⚠️ Please ensure that the resulting columns maintain precise names: `'Maximum'`, `'Minimum'` and `'Average'`. The **letter case matters**.\n",
        "\n",
        "> 🔎 [**Expected result**](https://drive.google.com/file/d/1-uQC19ml0cHo8sY9dTrkAXtMW4QydalY/view?usp=drive_link)\n",
        "---"
      ],
      "metadata": {
        "id": "F_xZtBV-BIBE"
      }
    },
    {
      "cell_type": "code",
      "source": [
        "query = \"\"\"\n",
        "  -- ENTER A QUERY HERE\n",
        "\"\"\"\n",
        "\n",
        "\n",
        "# ============================================================================================================================\n",
        "#  Showing the table\n",
        "# ============================================================================================================================\n",
        "df = pd.read_sql(query, conn)\n",
        "df_to_vis = pd.DataFrame.from_dict({\n",
        "    'Metric': ['Maximum', 'Minimum', 'Average'],\n",
        "    'Value': [df['Maximum'][0], df['Minimum'][0], df['Average'][0]],\n",
        "})\n",
        "display(df_to_vis)\n",
        "# ============================================================================================================================"
      ],
      "metadata": {
        "id": "2HK1zlgur--4"
      },
      "execution_count": null,
      "outputs": []
    },
    {
      "cell_type": "markdown",
      "source": [
        "## 📌 Task 7: Vote average distribution\n",
        "\n",
        "It looks strange! Apparently, a large portion of the values are significantly less than `1000`, since the average value is `286.1`.\n",
        "\n",
        "Anyway, there's a more understandable column, `\"Vote_average\"`. Let's try to find out how the data is distributed in it.\n",
        "\n",
        "Let's divide all `\"Vote_average\"` values into the following **3 groups**:\n",
        "\n",
        "\n",
        "*   **Low**: values that are less than 6\n",
        "*   **Medium**: values that are between 6 and 7 including\n",
        "*   **High**: Values that are greater than 7\n",
        "\n",
        "Please, help me writing a SQL query to get a `title` and group by `Vote_average` for all the movies stored in the `movies` table.\n",
        "\n",
        "---\n",
        "\n",
        "> **🚩 Task**: Write a query that **retrieves the following data about each movie**: `title`, `Vote group` (one of the following: `'Low'`, `'Medium'` or `'High'`)\n",
        "\n",
        "> ⚠️ Please ensure that the column resulting from grouping by `'Vote_average'` is precisely named `'Vote group'`. The **case of the letters matters**.\n",
        "\n",
        "\n",
        "> 🔎 [**Expected result**](https://drive.google.com/file/d/1UMxOa_voORUzF67ts3AVvgrquvYvFG17/view?usp=drive_link)\n",
        "---\n"
      ],
      "metadata": {
        "id": "hAwqHmmsF0Kp"
      }
    },
    {
      "cell_type": "code",
      "source": [
        "query = \"\"\"\n",
        "  -- ENTER A QUERY HERE\n",
        "\"\"\"\n",
        "\n",
        "\n",
        "# ============================================================================================================================\n",
        "#  Showing the table\n",
        "# ============================================================================================================================\n",
        "df = pd.read_sql(query, conn)\n",
        "groups = df['Vote Group'].value_counts().to_dict()\n",
        "# print(groups.to_dict())\n",
        "\n",
        "df_to_vis = pd.DataFrame.from_dict({\n",
        "    'Group': ['Low', 'Medium', 'High'],\n",
        "    'Count': [groups['Low'], groups['Medium'], groups['High']],\n",
        "})\n",
        "df_to_vis\n",
        "fig, ax = plt.subplots(figsize = (10,4))\n",
        "sns.barplot(x = 'Group', y = 'Count', palette='crest', data = df_to_vis)\n",
        "plt.title('Vote groups distribution', fontsize = 15)\n",
        "plt.xticks(rotation = 90, fontsize = 10)\n",
        "plt.show()\n",
        "# ============================================================================================================================"
      ],
      "metadata": {
        "id": "hYnirURUr-8h"
      },
      "execution_count": null,
      "outputs": []
    }
  ]
}